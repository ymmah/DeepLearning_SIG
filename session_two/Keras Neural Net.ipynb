{
 "cells": [
  {
   "cell_type": "code",
   "execution_count": 1,
   "metadata": {},
   "outputs": [
    {
     "name": "stderr",
     "output_type": "stream",
     "text": [
      "/Users/elliott.park/anaconda3/envs/dls/lib/python3.6/site-packages/h5py/__init__.py:36: FutureWarning: Conversion of the second argument of issubdtype from `float` to `np.floating` is deprecated. In future, it will be treated as `np.float64 == np.dtype(float).type`.\n",
      "  from ._conv import register_converters as _register_converters\n",
      "Using TensorFlow backend.\n"
     ]
    },
    {
     "name": "stdout",
     "output_type": "stream",
     "text": [
      "WARNING:tensorflow:Variable *= will be deprecated. Use variable.assign_mul if you want assignment to the variable value or 'x = x * y' if you want a new python Tensor object.\n",
      "Epoch 1/20\n",
      "1000/1000 [==============================] - 0s 183us/step - loss: 2.3563 - acc: 0.1240\n",
      "Epoch 2/20\n",
      "1000/1000 [==============================] - 0s 17us/step - loss: 2.3375 - acc: 0.1170\n",
      "Epoch 3/20\n",
      "1000/1000 [==============================] - 0s 18us/step - loss: 2.3233 - acc: 0.1160\n",
      "Epoch 4/20\n",
      "1000/1000 [==============================] - 0s 17us/step - loss: 2.3226 - acc: 0.1080\n",
      "Epoch 5/20\n",
      "1000/1000 [==============================] - 0s 18us/step - loss: 2.3214 - acc: 0.1100\n",
      "Epoch 6/20\n",
      "1000/1000 [==============================] - 0s 18us/step - loss: 2.3220 - acc: 0.1140\n",
      "Epoch 7/20\n",
      "1000/1000 [==============================] - 0s 18us/step - loss: 2.3129 - acc: 0.0970\n",
      "Epoch 8/20\n",
      "1000/1000 [==============================] - 0s 17us/step - loss: 2.3127 - acc: 0.1030\n",
      "Epoch 9/20\n",
      "1000/1000 [==============================] - 0s 17us/step - loss: 2.3047 - acc: 0.1120\n",
      "Epoch 10/20\n",
      "1000/1000 [==============================] - 0s 18us/step - loss: 2.3100 - acc: 0.1010\n",
      "Epoch 11/20\n",
      "1000/1000 [==============================] - 0s 18us/step - loss: 2.2995 - acc: 0.1130\n",
      "Epoch 12/20\n",
      "1000/1000 [==============================] - 0s 18us/step - loss: 2.3005 - acc: 0.1200\n",
      "Epoch 13/20\n",
      "1000/1000 [==============================] - 0s 18us/step - loss: 2.3049 - acc: 0.0960\n",
      "Epoch 14/20\n",
      "1000/1000 [==============================] - 0s 19us/step - loss: 2.3041 - acc: 0.1140\n",
      "Epoch 15/20\n",
      "1000/1000 [==============================] - 0s 19us/step - loss: 2.3001 - acc: 0.1110\n",
      "Epoch 16/20\n",
      "1000/1000 [==============================] - 0s 16us/step - loss: 2.3011 - acc: 0.1020\n",
      "Epoch 17/20\n",
      "1000/1000 [==============================] - 0s 18us/step - loss: 2.3058 - acc: 0.1200\n",
      "Epoch 18/20\n",
      "1000/1000 [==============================] - 0s 18us/step - loss: 2.3024 - acc: 0.1130\n",
      "Epoch 19/20\n",
      "1000/1000 [==============================] - 0s 18us/step - loss: 2.2975 - acc: 0.1150\n",
      "Epoch 20/20\n",
      "1000/1000 [==============================] - 0s 18us/step - loss: 2.2924 - acc: 0.1130\n",
      "100/100 [==============================] - 0s 323us/step\n"
     ]
    }
   ],
   "source": [
    "import keras\n",
    "from keras.models import Sequential\n",
    "from keras.layers import Dense, Dropout, Activation\n",
    "from keras.optimizers import SGD\n",
    "\n",
    "import numpy as np\n",
    "# create some fake input data\n",
    "train_inputs = np.random.random((1000, 20))\n",
    "train_targets = keras.utils.to_categorical(np.random.randint(10, size=(1000, 1)), num_classes=10)\n",
    "test_inputs = np.random.random((100, 20))\n",
    "test_targets = keras.utils.to_categorical(np.random.randint(10, size=(100, 1)), num_classes=10)\n",
    "\n",
    "model = Sequential()\n",
    "model.add(Dense(64, activation='relu', input_dim=20))\n",
    "model.add(Dropout(0.5))\n",
    "model.add(Dense(64, activation='relu'))\n",
    "model.add(Dropout(0.5))\n",
    "model.add(Dense(10, activation='softmax'))\n",
    "\n",
    "sgd = SGD(lr=0.01, decay=1e-6, momentum=0.9, nesterov=True)\n",
    "model.compile(loss='categorical_crossentropy',\n",
    "              optimizer=sgd,\n",
    "              metrics=['accuracy'])\n",
    "\n",
    "model.fit(train_inputs, train_targets,\n",
    "          epochs=20,\n",
    "          batch_size=128)\n",
    "score = model.evaluate(test_inputs, test_targets, batch_size=128)\n",
    "\n"
   ]
  },
  {
   "cell_type": "code",
   "execution_count": null,
   "metadata": {},
   "outputs": [],
   "source": []
  }
 ],
 "metadata": {
  "kernelspec": {
   "display_name": "Python 3",
   "language": "python",
   "name": "python3"
  },
  "language_info": {
   "codemirror_mode": {
    "name": "ipython",
    "version": 3
   },
   "file_extension": ".py",
   "mimetype": "text/x-python",
   "name": "python",
   "nbconvert_exporter": "python",
   "pygments_lexer": "ipython3",
   "version": "3.6.4"
  }
 },
 "nbformat": 4,
 "nbformat_minor": 2
}
